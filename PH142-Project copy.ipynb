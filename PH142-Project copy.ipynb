{
 "cells": [
  {
   "cell_type": "markdown",
   "id": "9d92f5b9",
   "metadata": {},
   "source": [
    "# PH 142 Project - Investigating the Relationship between Waist-to-Hip Ratio and Diabetes "
   ]
  },
  {
   "cell_type": "markdown",
   "id": "7cb4b166",
   "metadata": {},
   "source": [
    "The dataset addresses risk factors for diabetes, obesity, and cardiovascular disease in study participants living in two counties in Virginia. These risk factos include cholesterol and glucose levels, systolic and diastolic pressures, as well as demographics such as participant age, height, weight, and hip size. This data was collected from 403 male and female participants from Virginia's Buckingham and Louisa countie."
   ]
  },
  {
   "cell_type": "code",
   "execution_count": null,
   "id": "3fdf525d",
   "metadata": {},
   "outputs": [],
   "source": []
  }
 ],
 "metadata": {
  "kernelspec": {
   "display_name": "R",
   "language": "R",
   "name": "ir"
  },
  "language_info": {
   "codemirror_mode": "r",
   "file_extension": ".r",
   "mimetype": "text/x-r-source",
   "name": "R",
   "pygments_lexer": "r",
   "version": "3.6.1"
  }
 },
 "nbformat": 4,
 "nbformat_minor": 5
}
